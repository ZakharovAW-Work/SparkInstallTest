{
 "cells": [
  {
   "cell_type": "markdown",
   "id": "fc27b53c",
   "metadata": {},
   "source": [
    "### Тестирование подключение к класетру Spark"
   ]
  },
  {
   "cell_type": "code",
   "execution_count": null,
   "id": "d718ac48",
   "metadata": {
    "vscode": {
     "languageId": "plaintext"
    }
   },
   "outputs": [],
   "source": []
  }
 ],
 "metadata": {
  "language_info": {
   "name": "python"
  }
 },
 "nbformat": 4,
 "nbformat_minor": 5
}
