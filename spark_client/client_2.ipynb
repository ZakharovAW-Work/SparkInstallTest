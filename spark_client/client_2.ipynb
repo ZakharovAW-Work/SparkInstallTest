{
 "cells": [
  {
   "cell_type": "markdown",
   "id": "fc27b53c",
   "metadata": {},
   "source": [
    "### Тестирование подключение к класетру Spark"
   ]
  },
  {
   "cell_type": "code",
   "execution_count": null,
   "id": "c0141957",
   "metadata": {},
   "outputs": [],
   "source": [
    "import pyspark"
   ]
  }
 ],
 "metadata": {
  "kernelspec": {
   "display_name": "venv_wsl",
   "language": "python",
   "name": "python3"
  },
  "language_info": {
   "name": "python",
   "version": "3.12.3"
  }
 },
 "nbformat": 4,
 "nbformat_minor": 5
}
